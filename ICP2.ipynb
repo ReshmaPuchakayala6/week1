{
  "nbformat": 4,
  "nbformat_minor": 0,
  "metadata": {
    "colab": {
      "provenance": []
    },
    "kernelspec": {
      "name": "python3",
      "display_name": "Python 3"
    },
    "language_info": {
      "name": "python"
    }
  },
  "cells": [
    {
      "cell_type": "code",
      "execution_count": null,
      "metadata": {
        "id": "2y_b41ACOriG"
      },
      "outputs": [],
      "source": [
        "Reshma Puchakayala\n",
        "700766173"
      ]
    },
    {
      "cell_type": "code",
      "source": [
        "# Employee class\n",
        "class Employee:\n",
        "\n",
        "    employee_count = 0\n",
        "\n",
        "    def __init__(self, name, family, salary, department):\n",
        "\n",
        "        self.name = name\n",
        "        self.salary = salary\n",
        "        self.department = department\n",
        "        self.family = family\n",
        "\n",
        "\n",
        "        Employee.employee_count += 1\n",
        "\n",
        "    def average_salary(list_employees):\n",
        "\n",
        "        total_salary = sum(e.salary for e in list_employees)\n",
        "        return total_salary / len(list_employees) if list_employees else 0\n",
        "\n",
        "\n",
        "class FulltimeEmployee(Employee):\n",
        "    def __init__(self, name, family, salary, department, work_hours):\n",
        "        # Initialize the base class (Employee) with common attributes\n",
        "        super().__init__(name, family, salary, department)\n",
        "        self.work_hours = work_hours\n",
        "\n",
        "\n",
        "emp1 = Employee(\"Rosie\", \"single\", 840000, \"Finance\")\n",
        "emp2 = Employee(\"Mounika\", \"Single\", 850000, \"HR\")\n",
        "fulltime_emp1 = FulltimeEmployee(\"Revanth\", \"single\", 950000, \"IT\", 40)\n",
        "fulltime_emp2 = FulltimeEmployee(\"Suresh\", \"Single\", 1050000, \"Marketing\", 45)\n",
        "\n",
        "\n",
        "print(f\"Total employees in the company: {Employee.employee_count}\")\n",
        "\n",
        "\n",
        "employees = [emp1, emp2, fulltime_emp1, fulltime_emp2]\n",
        "\n",
        "fulltime_employees = [e for e in employees if isinstance(e, FulltimeEmployee)]\n",
        "\n",
        "\n",
        "average_salary_emp = Employee.average_salary(employees)\n",
        "print(f\"Average Salary of all employees: {average_salary_emp}\")\n",
        "\n",
        "\n",
        "\n",
        "average_fulltime_salary = Employee.average_salary(fulltime_employees)\n",
        "print(f\"Average Salary of Fulltime Employees: {average_fulltime_salary}\")\n"
      ],
      "metadata": {
        "colab": {
          "base_uri": "https://localhost:8080/"
        },
        "id": "zQvtTM5oOs2U",
        "outputId": "e64da4a4-dbdd-467d-bb6f-81995ceb37e0"
      },
      "execution_count": 57,
      "outputs": [
        {
          "output_type": "stream",
          "name": "stdout",
          "text": [
            "Total employees in the company: 4\n",
            "Average Salary of all employees: 922500.0\n",
            "Average Salary of Fulltime Employees: 1000000.0\n"
          ]
        }
      ]
    },
    {
      "cell_type": "markdown",
      "source": [
        "In this code I defined two classes, Employee and FulltimeEmployee.I created an Employee Class which represents a basic employee with attributes and methods for handling employee details such as name,salary,department,family,employee_count.I used a Constructor to initializes the employee's details and increments employee_count.Displays the employee's details (name, department, salary, and family status) then calculates the average salary of a list of employees.FulltimeEmployee Clas it extends the Employee class to represent full-time employees with additional attributes.it Inherits from Employee class, adding a work_hours attribute and overriding the display method to include work hours."
      ],
      "metadata": {
        "id": "jc9RgL_iZwWv"
      }
    },
    {
      "cell_type": "code",
      "source": [
        "import numpy as np\n",
        "\n",
        "random_vector = np.random.uniform(1, 20, 20)\n",
        "print(random_vector)\n",
        "matrix = random_vector.reshape(4, 5)\n",
        "print(\"Random vector reshaped into 4x5 matrix:\")\n",
        "print(random_vector.reshape(4, 5))\n",
        "max_indices = np.argmax(matrix, axis=1)\n",
        "rows = np.arange(matrix.shape[0])\n",
        "matrix[rows, max_indices] = 0\n",
        "\n",
        "print(\"\\nModified 4x5 matrix with maximum values replaced by 0:\")\n",
        "print(matrix)\n"
      ],
      "metadata": {
        "colab": {
          "base_uri": "https://localhost:8080/"
        },
        "id": "0M2FYq4cPDNb",
        "outputId": "0efff9fb-991f-4085-b133-d6b55511c14c"
      },
      "execution_count": 58,
      "outputs": [
        {
          "output_type": "stream",
          "name": "stdout",
          "text": [
            "[16.01974474  7.21191416 13.67869668 14.97311375 13.30294797 10.13680884\n",
            " 16.50644176 15.05410672  2.86906675 14.75225009  1.97611857 11.19295998\n",
            " 11.91803013  7.85858707 19.81731964  4.46261058 16.62869021 11.65890097\n",
            "  7.82335267 12.02038506]\n",
            "Random vector reshaped into 4x5 matrix:\n",
            "[[16.01974474  7.21191416 13.67869668 14.97311375 13.30294797]\n",
            " [10.13680884 16.50644176 15.05410672  2.86906675 14.75225009]\n",
            " [ 1.97611857 11.19295998 11.91803013  7.85858707 19.81731964]\n",
            " [ 4.46261058 16.62869021 11.65890097  7.82335267 12.02038506]]\n",
            "\n",
            "Modified 4x5 matrix with maximum values replaced by 0:\n",
            "[[ 0.          7.21191416 13.67869668 14.97311375 13.30294797]\n",
            " [10.13680884  0.         15.05410672  2.86906675 14.75225009]\n",
            " [ 1.97611857 11.19295998 11.91803013  7.85858707  0.        ]\n",
            " [ 4.46261058  0.         11.65890097  7.82335267 12.02038506]]\n"
          ]
        }
      ]
    },
    {
      "cell_type": "markdown",
      "source": [
        "This code uses NumPy to create and manipulate a 4x5 matrix.I genearted a vector of 20 random float values between 1 and 20.Then the vector is reshaped into a 4x5 matrix.I found a maximum values by the column index of the maximum value in each row is identified using np.argmax.Then replaced Maximum with 0: The maximum value in each row is replaced with 0 using advanced indexing.Then the results got displayed. The original reshaped matrix and the modified matrix are printed.\n",
        "\n"
      ],
      "metadata": {
        "id": "EWDuFu2Fe_AY"
      }
    }
  ]
}