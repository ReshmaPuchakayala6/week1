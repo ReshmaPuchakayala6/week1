{
  "nbformat": 4,
  "nbformat_minor": 0,
  "metadata": {
    "colab": {
      "provenance": []
    },
    "kernelspec": {
      "name": "python3",
      "display_name": "Python 3"
    },
    "language_info": {
      "name": "python"
    }
  },
  "cells": [
    {
      "cell_type": "code",
      "source": [
        "id:700766173 Name:Reshma Puchakayala"
      ],
      "metadata": {
        "id": "7d0dM_A3kyCk"
      },
      "execution_count": null,
      "outputs": []
    },
    {
      "cell_type": "code",
      "execution_count": null,
      "metadata": {
        "id": "tJUsFM3aFfKj"
      },
      "outputs": [],
      "source": [
        "https://drive.google.com/file/d/1R57UpQjCm0HGwB1p0uDe15Mo_EED78s-/view?usp=drive_link"
      ]
    },
    {
      "cell_type": "code",
      "source": [
        "def fullname(first_name,last_name):\n",
        "  return first_name+\" \"+last_name\n",
        "\n",
        "def string_alternative(str):\n",
        "  return str[::2]\n",
        "\n",
        "first_name=input(\"enter first name: \")\n",
        "last_name=input(\"enter last name: \")\n",
        "\n",
        "full_name=fullname(first_name,last_name)\n",
        "print(\"full_name\",full_name)\n",
        "\n",
        "\n",
        "alternative=string_alternative(full_name)\n",
        "print(\"String with every other character:\", alternative)\n",
        "\n",
        "\n"
      ],
      "metadata": {
        "colab": {
          "base_uri": "https://localhost:8080/"
        },
        "id": "cu8h7hiLFi6o",
        "outputId": "c752d3cc-65ca-4bfd-9f78-9b0b7945df55"
      },
      "execution_count": 1,
      "outputs": [
        {
          "output_type": "stream",
          "name": "stdout",
          "text": [
            "enter first name: Good\n",
            "enter last name: evening\n",
            "full_name Good evening\n",
            "String with every other character: Go vnn\n"
          ]
        }
      ]
    },
    {
      "cell_type": "markdown",
      "source": [
        "Here, We are defining a function where we are printing the every other charcter.The program takes the user's first and last names as input, combines them into a full name, By using string slicing  it extracts every other character from the full name. we used two key concepts: string concatenation (combining strings)  and string slicing (accessing every second character of a string) as mentioned in function in the code.So,This program takes the input from user and gives the output  string with every other character."
      ],
      "metadata": {
        "id": "_yGOGqWaiTz6"
      }
    },
    {
      "cell_type": "code",
      "source": [
        "# Open the input file\n",
        "input_file = open(\"input.txt\", \"r\")\n",
        "copy_data = input_file.read()\n",
        "input_file.close()\n",
        "\n",
        "# Count word occurrences\n",
        "counts = {}\n",
        "words = copy_data.split()\n",
        "for word in words:\n",
        "    if word in counts:\n",
        "        counts[word] += 1\n",
        "    else:\n",
        "        counts[word] = 1\n",
        "\n",
        "# Print word counts\n",
        "print(\"Word Counts:\", counts)\n",
        "\n",
        "# Write the data and word counts to an output file\n",
        "output_file = open(\"output.txt\", \"w\")\n",
        "output_file.write(copy_data)\n",
        "output_file.write(\"\\nword_count:\\n\")\n",
        "for key, value in counts.items():\n",
        "    output_file.write(key + \": \" + str(value) + \"\\n\")\n",
        "output_file.close()\n",
        "\n"
      ],
      "metadata": {
        "colab": {
          "base_uri": "https://localhost:8080/"
        },
        "id": "XBfGPbS3XWE5",
        "outputId": "cc4af874-909d-45b2-f753-31431bdb53c7"
      },
      "execution_count": null,
      "outputs": [
        {
          "output_type": "stream",
          "name": "stdout",
          "text": [
            "Word Counts: {'Python': 1, 'Course': 2, 'Deep': 1, 'Learning': 1}\n"
          ]
        }
      ]
    },
    {
      "cell_type": "markdown",
      "source": [
        "This program processes a text file (input.txt).Reading the content from the input file and Counting the frequency of each word in the content.Writing the original content and the word counts into a new file (output.txt).The program opens and closes files to read data and write results.The program uses string methods like split() to extract words from the text.A dictionary (counts) is used to store and manage the word counts.the program processes a text file by analyzing the word distribution and saving both the original text and word counts into a new output file(output.txt).\n"
      ],
      "metadata": {
        "id": "uWJQZl-UmPHm"
      }
    },
    {
      "cell_type": "code",
      "source": [
        "heights_inches=list(map(float,input().split(',')))\n",
        "heights_cms=[]\n",
        "i = 0\n",
        "while i < len(heights_inches):\n",
        "    x = heights_inches[i] * 2.54  # Convert to centimeters\n",
        "    heights_cms.append(x)\n",
        "    i += 1\n",
        "print(heights_cms)\n",
        "heights_in=list(map(float,input().split(',')))\n",
        "heights_centimeters=[x*2.54 for x in heights_inches]\n",
        "print(heights_centimeters)"
      ],
      "metadata": {
        "colab": {
          "base_uri": "https://localhost:8080/"
        },
        "id": "3Nx4-M4VPWXp",
        "outputId": "b79d558b-ceb8-4494-e115-2cb320055e2b"
      },
      "execution_count": null,
      "outputs": [
        {
          "output_type": "stream",
          "name": "stdout",
          "text": [
            "150,155,145,148\n",
            "[381.0, 393.7, 368.3, 375.92]\n",
            "150,155,145,148\n",
            "[381.0, 393.7, 368.3, 375.92]\n"
          ]
        }
      ]
    },
    {
      "cell_type": "markdown",
      "source": [
        "I used a while loop to convert inches to centimeters.Iterates over the list of heights in inches, converts each height to centimeters, and stores it in a new list.x = heights_inches[i] * 2.54: Converts the i-th height from inches to centimeters by multiplying it by 2.54 ( 1 inch = 2.54 cm).By using a list comprehension it Uses a compact one-liner to achieve the same result—converting heights in inches to centimeters."
      ],
      "metadata": {
        "id": "lMA08y6Wn9Nx"
      }
    }
  ]
}